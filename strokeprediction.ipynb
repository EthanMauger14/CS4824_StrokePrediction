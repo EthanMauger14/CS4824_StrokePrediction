{
 "cells": [
  {
   "cell_type": "markdown",
   "id": "d8d0a064",
   "metadata": {},
   "source": [
    "# CS 4824 Project - Ethan Mauger, Fall 2024\n",
    "\n",
    "This Juypter Notebook runs all of the code associated with my CS 4824 project focused on predicting strokes based on patient health data. This notebook was run by opening Jupyter Notebooks version 6.5.4 on the Anaconda Navigator version 2.6.3. Ensure that the notebook and Kaggle data (healthcare-dataset-stroke-data.csv) are in the same directory."
   ]
  },
  {
   "cell_type": "markdown",
   "id": "cea87d85",
   "metadata": {},
   "source": [
    "## 1. Initial Setup\n",
    "\n",
    "Load data from healthcare-dataset-stroke-data.csv into a pandas dataframe."
   ]
  },
  {
   "cell_type": "code",
   "execution_count": 1,
   "id": "82cf2777",
   "metadata": {},
   "outputs": [],
   "source": [
    "import pandas as pd\n",
    "\n",
    "#Load in the data from the csv file in the same directory as this notebook\n",
    "raw_data = pd.read_csv(\"healthcare-dataset-stroke-data.csv\")"
   ]
  },
  {
   "cell_type": "markdown",
   "id": "7c138fc5",
   "metadata": {},
   "source": [
    "## 2. Data Preprocessing\n",
    "\n",
    "Preprocess data so that when it is provided to the models, it will be well formatted."
   ]
  },
  {
   "cell_type": "code",
   "execution_count": 2,
   "id": "4641b758",
   "metadata": {},
   "outputs": [],
   "source": [
    "from sklearn.preprocessing import LabelEncoder, OneHotEncoder\n",
    "\n",
    "#Drop the id column. This data will not be helpful in predicting the probability of a stroke in patients.\n",
    "data = raw_data.copy()\n",
    "data = data.drop('id', axis=1)\n",
    "\n",
    "#Use Label encoding for binary columns such as ever_married and Residence_type, where the number order matters (Yes/No).\n",
    "label_encoder = LabelEncoder()\n",
    "for column in ['ever_married', 'Residence_type']:\n",
    "    data[column] = label_encoder.fit_transform(data[column])\n",
    "\n",
    "#Use One-Hot encoding for columns in which the order doesn't matter, such as gender, work_type, and smoking_status.\n",
    "#sparse_output=False to keep data in a numpy array format.\n",
    "one_hot_encoder = OneHotEncoder(sparse_output=False)\n",
    "for column in ['gender', 'work_type', 'smoking_status']:\n",
    "    encoded_data = one_hot_encoder.fit_transform(data[[column]])\n",
    "    encoded_columns = one_hot_encoder.get_feature_names_out([column])\n",
    "    encoded_df = pd.DataFrame(encoded_data, columns=encoded_columns)\n",
    "    data = data.drop(column, axis=1).join(encoded_df)"
   ]
  },
  {
   "cell_type": "markdown",
   "id": "8b3ad4ee",
   "metadata": {},
   "source": [
    "## 3. Imputation Methods\n",
    "\n",
    "Imputate the bmi column using three different methods that will be paired with sampling strategies below. The three pairings will be baseline processing (Mean Imputation), research processing (Multiple Imputation by Chained Equations (MICE)), and exploratory processing (K Nearest Neighbors Imputation (KNN))."
   ]
  },
  {
   "cell_type": "code",
   "execution_count": 3,
   "id": "65ad6e97",
   "metadata": {},
   "outputs": [],
   "source": [
    "from sklearn.experimental import enable_iterative_imputer\n",
    "from sklearn.impute import IterativeImputer, KNNImputer\n",
    "from sklearn.preprocessing import StandardScaler\n",
    "\n",
    "#Take initial preprocessing and copy it for the other processing pairings.\n",
    "baseline_data = data.copy()\n",
    "research_data = data.copy()\n",
    "exploratory_data = data.copy()\n",
    "\n",
    "#Set up Z-score normalization for each pairing. Normalization will cover all of the data except for the stroke column.\n",
    "scaler = StandardScaler()\n",
    "columns_to_normalize = [col for col in data.columns if col != 'stroke']\n",
    "\n",
    "#Baseline: Imputate the bmi column with Mean Imputation to replace missing data.\n",
    "baseline_data['bmi'] = baseline_data['bmi'].fillna(baseline_data['bmi'].mean())\n",
    "\n",
    "baseline_data[columns_to_normalize] = scaler.fit_transform(baseline_data[columns_to_normalize])\n",
    "\n",
    "#Research: Imputate the bmi column with MICE Imputation.\n",
    "research_imputer = IterativeImputer(random_state=23)\n",
    "research_data['bmi'] = research_imputer.fit_transform(research_data[['bmi']])\n",
    "\n",
    "research_data[columns_to_normalize] = scaler.fit_transform(research_data[columns_to_normalize])\n",
    "\n",
    "#Exploratory: Imputate the bmi column with KNN Imputation.\n",
    "exploratory_imputer = KNNImputer()\n",
    "exploratory_data['bmi'] = exploratory_imputer.fit_transform(exploratory_data[['bmi']])\n",
    "\n",
    "exploratory_data[columns_to_normalize] = scaler.fit_transform(exploratory_data[columns_to_normalize])"
   ]
  },
  {
   "cell_type": "markdown",
   "id": "9cfd7a30",
   "metadata": {},
   "source": [
    "### 3.1. Exploring Imputation Methods\n",
    "\n",
    "By looking at the statistics of the imputated bmi column, it is clear that within the data, the imputation methods don't actually differ in imputated values. This could be caused by a lack of missing data, with only 0.32% of data being missing, or due to the fact that all of these methods tend to converge towards the mean, ensuring similar imputation. Regardless, it is important to imputate to remove missing data from the dataset."
   ]
  },
  {
   "cell_type": "code",
   "execution_count": 4,
   "id": "82a1c8dc",
   "metadata": {},
   "outputs": [
    {
     "name": "stdout",
     "output_type": "stream",
     "text": [
      "Percentage of Missing Values in DataFrame:  0.32778864970645794 \n",
      "\n",
      "BMI Column Statistics After Different Imputation Methods:\n"
     ]
    },
    {
     "data": {
      "text/html": [
       "<div>\n",
       "<style scoped>\n",
       "    .dataframe tbody tr th:only-of-type {\n",
       "        vertical-align: middle;\n",
       "    }\n",
       "\n",
       "    .dataframe tbody tr th {\n",
       "        vertical-align: top;\n",
       "    }\n",
       "\n",
       "    .dataframe thead th {\n",
       "        text-align: right;\n",
       "    }\n",
       "</style>\n",
       "<table border=\"1\" class=\"dataframe\">\n",
       "  <thead>\n",
       "    <tr style=\"text-align: right;\">\n",
       "      <th></th>\n",
       "      <th>Baseline</th>\n",
       "      <th>Research</th>\n",
       "      <th>Exploratory</th>\n",
       "    </tr>\n",
       "  </thead>\n",
       "  <tbody>\n",
       "    <tr>\n",
       "      <th>count</th>\n",
       "      <td>5.110000e+03</td>\n",
       "      <td>5.110000e+03</td>\n",
       "      <td>5.110000e+03</td>\n",
       "    </tr>\n",
       "    <tr>\n",
       "      <th>mean</th>\n",
       "      <td>2.224791e-17</td>\n",
       "      <td>2.224791e-17</td>\n",
       "      <td>2.224791e-17</td>\n",
       "    </tr>\n",
       "    <tr>\n",
       "      <th>std</th>\n",
       "      <td>1.000098e+00</td>\n",
       "      <td>1.000098e+00</td>\n",
       "      <td>1.000098e+00</td>\n",
       "    </tr>\n",
       "    <tr>\n",
       "      <th>min</th>\n",
       "      <td>-2.415564e+00</td>\n",
       "      <td>-2.415564e+00</td>\n",
       "      <td>-2.415564e+00</td>\n",
       "    </tr>\n",
       "    <tr>\n",
       "      <th>25%</th>\n",
       "      <td>-6.616944e-01</td>\n",
       "      <td>-6.616944e-01</td>\n",
       "      <td>-6.616944e-01</td>\n",
       "    </tr>\n",
       "    <tr>\n",
       "      <th>50%</th>\n",
       "      <td>-6.407951e-02</td>\n",
       "      <td>-6.407951e-02</td>\n",
       "      <td>-6.407951e-02</td>\n",
       "    </tr>\n",
       "    <tr>\n",
       "      <th>75%</th>\n",
       "      <td>5.075521e-01</td>\n",
       "      <td>5.075521e-01</td>\n",
       "      <td>5.075521e-01</td>\n",
       "    </tr>\n",
       "    <tr>\n",
       "      <th>max</th>\n",
       "      <td>8.926127e+00</td>\n",
       "      <td>8.926127e+00</td>\n",
       "      <td>8.926127e+00</td>\n",
       "    </tr>\n",
       "  </tbody>\n",
       "</table>\n",
       "</div>"
      ],
      "text/plain": [
       "           Baseline      Research   Exploratory\n",
       "count  5.110000e+03  5.110000e+03  5.110000e+03\n",
       "mean   2.224791e-17  2.224791e-17  2.224791e-17\n",
       "std    1.000098e+00  1.000098e+00  1.000098e+00\n",
       "min   -2.415564e+00 -2.415564e+00 -2.415564e+00\n",
       "25%   -6.616944e-01 -6.616944e-01 -6.616944e-01\n",
       "50%   -6.407951e-02 -6.407951e-02 -6.407951e-02\n",
       "75%    5.075521e-01  5.075521e-01  5.075521e-01\n",
       "max    8.926127e+00  8.926127e+00  8.926127e+00"
      ]
     },
     "execution_count": 4,
     "metadata": {},
     "output_type": "execute_result"
    }
   ],
   "source": [
    "#Calculate the percentage of missing values in the initial dataframe.\n",
    "missing = (raw_data.isnull().sum().sum() / raw_data.size) * 100\n",
    "\n",
    "print(\"Percentage of Missing Values in DataFrame: \", missing, \"\\n\")\n",
    "\n",
    "#Creates a DataFrame to show differences in column statistics.\n",
    "baseline_stats = baseline_data['bmi'].describe()\n",
    "research_stats = research_data['bmi'].describe()\n",
    "exploratory_stats = exploratory_data['bmi'].describe()\n",
    "\n",
    "imputated_stats = pd.DataFrame({\n",
    "    'Baseline': baseline_stats,\n",
    "    'Research': research_stats,\n",
    "    'Exploratory': exploratory_stats\n",
    "})\n",
    "\n",
    "print(\"BMI Column Statistics After Different Imputation Methods:\")\n",
    "imputated_stats"
   ]
  },
  {
   "cell_type": "markdown",
   "id": "07b63a3c",
   "metadata": {},
   "source": [
    "## 4. Oversampling Methods\n",
    "\n",
    "Sample the data to balance the number of rows that are stroke positive with the number of rows that are stroke negative. The methods will be paired with the imputation methods above to form the three groups created. The baseline processing pairing will use Random Oversampling, the research processing pairing will use Synthetic Minority Oversampling (SMOTE), and the exploratory processing pairing will use Adaptive Synthetic Sampling (ADASYN)."
   ]
  },
  {
   "cell_type": "code",
   "execution_count": 5,
   "id": "bb45b952",
   "metadata": {},
   "outputs": [],
   "source": [
    "from imblearn.over_sampling import RandomOverSampler, SMOTE, ADASYN\n",
    "\n",
    "#Baseline: Oversample using Random Oversampling. Make sure to separate features initially.\n",
    "x_baseline = baseline_data.drop('stroke', axis=1)\n",
    "y_baseline = baseline_data['stroke']\n",
    "\n",
    "baseline_sampler = RandomOverSampler(random_state=23)\n",
    "x_baseline_resampled, y_baseline_resampled = baseline_sampler.fit_resample(x_baseline, y_baseline)\n",
    "\n",
    "#Research: Oversample using SMOTE. Make sure to separate features initially.\n",
    "x_research = research_data.drop('stroke', axis=1)\n",
    "y_research = research_data['stroke']\n",
    "\n",
    "research_sampler = SMOTE(random_state=23)\n",
    "x_research_resampled, y_research_resampled = research_sampler.fit_resample(x_research, y_research)\n",
    "\n",
    "#Exploratory: Oversample using ADASYN. Make sure to separate features initially.\n",
    "x_exploratory = exploratory_data.drop('stroke', axis=1)\n",
    "y_exploratory = exploratory_data['stroke']\n",
    "\n",
    "exploratory_sampler = ADASYN(random_state=23)\n",
    "x_exploratory_resampled, y_exploratory_resampled = exploratory_sampler.fit_resample(x_exploratory, y_exploratory)"
   ]
  },
  {
   "cell_type": "markdown",
   "id": "78ba0f28",
   "metadata": {},
   "source": [
    "### 4.1. Exploring Oversampling Techniques\n",
    "\n",
    "Oversampling is required because of how little positives are represented within the data. As shown below, the raw data only has about 5% of stroke cases, which will make it more difficult for the models to train for both cases. The three different oversampling techniques aim to make it closer, with Random Oversampling repeating rows already found in the dataset and SMOTE/ADASYN generating synthetic data."
   ]
  },
  {
   "cell_type": "code",
   "execution_count": 6,
   "id": "5055d0ef",
   "metadata": {},
   "outputs": [
    {
     "name": "stdout",
     "output_type": "stream",
     "text": [
      "Before Oversampling Stroke Percentage: 4.87279843444227\n",
      "Before Oversampling Non-Stroke Percentage: 95.12720156555773 \n",
      "\n",
      "Random Oversampling Stroke Percentage: 50.0\n",
      "Random Oversampling Non-Stroke Percentage: 50.0 \n",
      "\n",
      "SMOTE Stroke Percentage: 50.0\n",
      "SMOTE Non-Stroke Percentage: 50.0 \n",
      "\n",
      "ADASYN Stroke Percentage: 50.15892545883318\n",
      "ADASYN Non-Stroke Percentage: 49.84107454116682 \n",
      "\n"
     ]
    }
   ],
   "source": [
    "#Class distribution before oversampling\n",
    "raw_distribution = raw_data['stroke'].value_counts(normalize=True) * 100\n",
    "print(\"Before Oversampling Stroke Percentage:\", raw_distribution.get(1, 0))\n",
    "print(\"Before Oversampling Non-Stroke Percentage:\", raw_distribution.get(0, 0), \"\\n\")\n",
    "\n",
    "#Class distribution with Random Oversampling\n",
    "baseline_distribution = y_baseline_resampled.value_counts(normalize=True) * 100\n",
    "print(\"Random Oversampling Stroke Percentage:\", baseline_distribution.get(1, 0))\n",
    "print(\"Random Oversampling Non-Stroke Percentage:\", baseline_distribution.get(0, 0), \"\\n\")\n",
    "\n",
    "#Class distribution with SMOTE\n",
    "research_distribution = y_research_resampled.value_counts(normalize=True) * 100\n",
    "print(\"SMOTE Stroke Percentage:\", research_distribution.get(1, 0))\n",
    "print(\"SMOTE Non-Stroke Percentage:\", research_distribution.get(0, 0), \"\\n\")\n",
    "\n",
    "#Class distribution with ADASYN\n",
    "exploratory_distribution = y_exploratory_resampled.value_counts(normalize=True) * 100\n",
    "print(\"ADASYN Stroke Percentage:\", exploratory_distribution.get(1, 0))\n",
    "print(\"ADASYN Non-Stroke Percentage:\", exploratory_distribution.get(0, 0), \"\\n\")"
   ]
  },
  {
   "cell_type": "markdown",
   "id": "fe6a9237",
   "metadata": {},
   "source": [
    "## 5. Split Data\n",
    "\n",
    "Now, split the fully preprocessed pairings into training, testing, and validation datasets to be used with the models. A 25% split was chosen based on researched recommendations and wanting there to be enough testing data so that the model wouldn't overfit."
   ]
  },
  {
   "cell_type": "code",
   "execution_count": 7,
   "id": "b59e1a30",
   "metadata": {},
   "outputs": [],
   "source": [
    "from sklearn.model_selection import train_test_split\n",
    "\n",
    "#Baseline\n",
    "x_train_baseline, x_test_baseline, y_train_baseline, y_test_baseline = train_test_split(\n",
    "    x_baseline_resampled, y_baseline_resampled, test_size=0.25, random_state=23)\n",
    "\n",
    "#Research\n",
    "x_train_research, x_test_research, y_train_research, y_test_research = train_test_split(\n",
    "    x_research_resampled, y_research_resampled, test_size=0.25, random_state=23)\n",
    "\n",
    "#Exploratory\n",
    "x_train_exploratory, x_test_exploratory, y_train_exploratory, y_test_exploratory = train_test_split(\n",
    "    x_exploratory_resampled, y_exploratory_resampled, test_size=0.25, random_state=23)"
   ]
  },
  {
   "cell_type": "markdown",
   "id": "3e97e0c7",
   "metadata": {},
   "source": [
    "## 6. Initial Model Creation\n",
    "\n",
    "The data has now been preprocessed through the baseline, research, and exploratory pairings and is fully cleaned. The next steps in this project include creating, training, and tuning the machine learning models to be compared. The four models that will be compared are Stocastic Gradient Descent (SGD) with logistic regression, Multilayer Perceptron (MLP), Gaussian Naive Bayes (GNB), and K Nearest Neighbors (KNN). The initial models with default parameters before feature engineering are below. The paper explains how each model works and why the model was chosen in detail."
   ]
  },
  {
   "cell_type": "code",
   "execution_count": 8,
   "id": "7a54b6ea",
   "metadata": {},
   "outputs": [
    {
     "name": "stderr",
     "output_type": "stream",
     "text": [
      "C:\\Users\\Ethan\\anaconda3\\Lib\\site-packages\\sklearn\\neural_network\\_multilayer_perceptron.py:686: ConvergenceWarning: Stochastic Optimizer: Maximum iterations (200) reached and the optimization hasn't converged yet.\n",
      "  warnings.warn(\n",
      "C:\\Users\\Ethan\\anaconda3\\Lib\\site-packages\\sklearn\\neural_network\\_multilayer_perceptron.py:686: ConvergenceWarning: Stochastic Optimizer: Maximum iterations (200) reached and the optimization hasn't converged yet.\n",
      "  warnings.warn(\n",
      "C:\\Users\\Ethan\\anaconda3\\Lib\\site-packages\\sklearn\\neural_network\\_multilayer_perceptron.py:686: ConvergenceWarning: Stochastic Optimizer: Maximum iterations (200) reached and the optimization hasn't converged yet.\n",
      "  warnings.warn(\n"
     ]
    }
   ],
   "source": [
    "from sklearn.linear_model import SGDClassifier\n",
    "from sklearn.naive_bayes import GaussianNB\n",
    "from sklearn.neighbors import KNeighborsClassifier\n",
    "from sklearn.neural_network import MLPClassifier\n",
    "\n",
    "#Initial training and testing for the SGD Classifier with a logarithmic loss function across all three pairings.\n",
    "sgd = SGDClassifier(loss='log_loss', random_state=23)\n",
    "\n",
    "sgd.fit(x_train_baseline, y_train_baseline)\n",
    "sgd_train_pred_baseline = sgd.predict(x_train_baseline)\n",
    "sgd_y_pred_baseline = sgd.predict(x_test_baseline)\n",
    "\n",
    "sgd.fit(x_train_research, y_train_research)\n",
    "sgd_train_pred_research = sgd.predict(x_train_research)\n",
    "sgd_y_pred_research = sgd.predict(x_test_research)\n",
    "\n",
    "sgd.fit(x_train_exploratory, y_train_exploratory)\n",
    "sgd_train_pred_exploratory = sgd.predict(x_train_exploratory)\n",
    "sgd_y_pred_exploratory = sgd.predict(x_test_exploratory)\n",
    "\n",
    "#Initial training and testing for the GNB Classifier across all three pairings.\n",
    "gnb = GaussianNB()\n",
    "\n",
    "gnb.fit(x_train_baseline, y_train_baseline)\n",
    "gnb_train_pred_baseline = gnb.predict(x_train_baseline)\n",
    "gnb_y_pred_baseline = gnb.predict(x_test_baseline)\n",
    "\n",
    "gnb.fit(x_train_research, y_train_research)\n",
    "gnb_train_pred_research = gnb.predict(x_train_research)\n",
    "gnb_y_pred_research = gnb.predict(x_test_research)\n",
    "\n",
    "gnb.fit(x_train_exploratory, y_train_exploratory)\n",
    "gnb_train_pred_exploratory = gnb.predict(x_train_exploratory)\n",
    "gnb_y_pred_exploratory = gnb.predict(x_test_exploratory)\n",
    "\n",
    "#Initial training and testing for the MLP Classifier across all three pairings.\n",
    "mlp = MLPClassifier(random_state=23)\n",
    "\n",
    "mlp.fit(x_train_baseline, y_train_baseline)\n",
    "mlp_train_pred_baseline = mlp.predict(x_train_baseline)\n",
    "mlp_y_pred_baseline = mlp.predict(x_test_baseline)\n",
    "\n",
    "mlp.fit(x_train_research, y_train_research)\n",
    "mlp_train_pred_research = mlp.predict(x_train_research)\n",
    "mlp_y_pred_research = mlp.predict(x_test_research)\n",
    "\n",
    "mlp.fit(x_train_exploratory, y_train_exploratory)\n",
    "mlp_train_pred_exploratory = mlp.predict(x_train_exploratory)\n",
    "mlp_y_pred_exploratory = mlp.predict(x_test_exploratory)\n",
    "\n",
    "#Initial training and testing for the KNN Classifier across all three pairings.\n",
    "knn = KNeighborsClassifier()\n",
    "\n",
    "knn.fit(x_train_baseline, y_train_baseline)\n",
    "knn_train_pred_baseline = knn.predict(x_train_baseline)\n",
    "knn_y_pred_baseline = knn.predict(x_test_baseline)\n",
    "\n",
    "knn.fit(x_train_research, y_train_research)\n",
    "knn_train_pred_research = knn.predict(x_train_research)\n",
    "knn_y_pred_research = knn.predict(x_test_research)\n",
    "\n",
    "knn.fit(x_train_exploratory, y_train_exploratory)\n",
    "knn_train_pred_exploratory = knn.predict(x_train_exploratory)\n",
    "knn_y_pred_exploratory = knn.predict(x_test_exploratory)"
   ]
  },
  {
   "cell_type": "markdown",
   "id": "f6b2cf37",
   "metadata": {},
   "source": [
    "### 6.1. Evaluating Initial Models\n",
    "\n",
    "After the initial models have been trained and tested, it is time to see a breakdown of the different models. The train_accuracy, test_accuracy, precision, recall, f1, and roc_auc for each initial model with each preprocessing pairing are calculated and stored in the cell below."
   ]
  },
  {
   "cell_type": "code",
   "execution_count": 46,
   "id": "bb8c0c3f",
   "metadata": {},
   "outputs": [
    {
     "data": {
      "text/plain": [
       "Text(0.5, 1.0, 'Test Accuracy by Initial Model and Preprocessing Pairing')"
      ]
     },
     "execution_count": 46,
     "metadata": {},
     "output_type": "execute_result"
    },
    {
     "data": {
      "image/png": "[encoded data removed]",
      "text/plain": [
       "<Figure size 1000x600 with 1 Axes>"
      ]
     },
     "metadata": {},
     "output_type": "display_data"
    }
   ],
   "source": [
    "import matplotlib.pyplot as plt\n",
    "from sklearn.metrics import accuracy_score, precision_score, recall_score, f1_score, roc_auc_score\n",
    "\n",
    "models = ['SGD', 'GNB', 'MLP', 'KNN']\n",
    "pairings = ['Baseline', 'Research', 'Exploratory']\n",
    "\n",
    "#All model data stored in these dictionaries. Use these to calculate scores.\n",
    "train_actual = {'Baseline': y_train_baseline, 'Research': y_train_research, 'Exploratory': y_train_exploratory}\n",
    "train_predictions = {\n",
    "    'SGD': {'Baseline': sgd_train_pred_baseline, 'Research': sgd_train_pred_research, 'Exploratory': sgd_train_pred_exploratory},\n",
    "    'GNB': {'Baseline': gnb_train_pred_baseline, 'Research': gnb_train_pred_research, 'Exploratory': gnb_train_pred_exploratory},\n",
    "    'MLP': {'Baseline': mlp_train_pred_baseline, 'Research': mlp_train_pred_research, 'Exploratory': mlp_train_pred_exploratory},\n",
    "    'KNN': {'Baseline': knn_train_pred_baseline, 'Research': knn_train_pred_research, 'Exploratory': knn_train_pred_exploratory},\n",
    "}\n",
    "\n",
    "test_actual = {'Baseline': y_test_baseline, 'Research': y_test_research, 'Exploratory': y_test_exploratory}\n",
    "test_predictions = {\n",
    "    'SGD': {'Baseline': sgd_y_pred_baseline, 'Research': sgd_y_pred_research, 'Exploratory': sgd_y_pred_exploratory},\n",
    "    'GNB': {'Baseline': gnb_y_pred_baseline, 'Research': gnb_y_pred_research, 'Exploratory': gnb_y_pred_exploratory},\n",
    "    'MLP': {'Baseline': mlp_y_pred_baseline, 'Research': mlp_y_pred_research, 'Exploratory': mlp_y_pred_exploratory},\n",
    "    'KNN': {'Baseline': knn_y_pred_baseline, 'Research': knn_y_pred_research, 'Exploratory': knn_y_pred_exploratory},\n",
    "}\n",
    "\n",
    "#Store all metrics in a mutlileveled dictionary for easy access.\n",
    "initial_results = {model: {pair: {} for pair in pairings} for model in models}\n",
    "\n",
    "for model in models:\n",
    "    for pair in pairings:\n",
    "        initial_results[model][pair] = {\n",
    "            'train_accuracy': accuracy_score(train_actual[pair], train_predictions[model][pair]),\n",
    "            'test_accuracy': accuracy_score(test_actual[pair], test_predictions[model][pair]),\n",
    "            'precision': precision_score(test_actual[pair], test_predictions[model][pair]),\n",
    "            'recall': recall_score(test_actual[pair], test_predictions[model][pair]),\n",
    "            'f1': f1_score(test_actual[pair], test_predictions[model][pair]),\n",
    "            'roc_auc': roc_auc_score(test_actual[pair], test_predictions[model][pair])\n",
    "        }\n",
    "        \n",
    "#Display a graph with the test accuracies for each model and pairing.\n",
    "\n",
    "desired_metric = 'test_accuracy' #Change the metric type here.\n",
    "\n",
    "test_accuracy_df = pd.DataFrame({model: {pair: initial_results[model][pair][desired_metric] for pair in pairings} for model in models}).T\n",
    "fig, ax = plt.subplots(figsize=(10, 6))\n",
    "test_accuracy_df.plot(kind='bar', ax=ax)\n",
    "\n",
    "ax.set_xlabel('Initial Models')\n",
    "ax.set_ylabel('Test Accuracy')\n",
    "ax.set_title('Test Accuracy by Initial Model and Preprocessing Pairing')"
   ]
  },
  {
   "cell_type": "markdown",
   "id": "26e05948",
   "metadata": {},
   "source": [
    "## 7. Feature Engineering and Parameter Tuning\n",
    "\n",
    "After the initial creation of the models, there are some clear indicators for improvement. The GNB Classifier performed significantly worse than the rest of the models, possibly because the data might be much more dependent on each other since it is health data. In addition, the MLP Classifier didn't converge, noting that more iterations might be necessary. This section solves these problems through using GridSearchCV to tune hyperparameters for each model. NOTE: This section takes a while to run. If you would like to speed up the process, comment out most of the mlp_parameters."
   ]
  },
  {
   "cell_type": "code",
   "execution_count": 12,
   "id": "17733868",
   "metadata": {},
   "outputs": [
    {
     "name": "stdout",
     "output_type": "stream",
     "text": [
      "Fitting 5 folds for each of 36 candidates, totalling 180 fits\n",
      "Fitting 5 folds for each of 36 candidates, totalling 180 fits\n",
      "Fitting 5 folds for each of 36 candidates, totalling 180 fits\n",
      "\n",
      "\n",
      "SGD best parameters for baseline data: {'alpha': 0.001, 'max_iter': 200, 'penalty': 'elasticnet'}\n",
      "SGD best parameters for research data: {'alpha': 0.003, 'max_iter': 200, 'penalty': 'l2'}\n",
      "SGD best parameters for exploratory data: {'alpha': 0.007, 'max_iter': 200, 'penalty': 'l2'}\n",
      "\n",
      "\n",
      "Fitting 5 folds for each of 3 candidates, totalling 15 fits\n",
      "Fitting 5 folds for each of 3 candidates, totalling 15 fits\n",
      "Fitting 5 folds for each of 3 candidates, totalling 15 fits\n",
      "\n",
      "\n",
      "GNB best parameters for baseline data: {'var_smoothing': 0.01}\n",
      "GNB best parameters for research data: {'var_smoothing': 0.01}\n",
      "GNB best parameters for exploratory data: {'var_smoothing': 0.01}\n",
      "\n",
      "\n",
      "Fitting 5 folds for each of 6 candidates, totalling 30 fits\n"
     ]
    },
    {
     "name": "stderr",
     "output_type": "stream",
     "text": [
      "C:\\Users\\Ethan\\anaconda3\\Lib\\site-packages\\sklearn\\neural_network\\_multilayer_perceptron.py:686: ConvergenceWarning: Stochastic Optimizer: Maximum iterations (500) reached and the optimization hasn't converged yet.\n",
      "  warnings.warn(\n",
      "C:\\Users\\Ethan\\anaconda3\\Lib\\site-packages\\sklearn\\neural_network\\_multilayer_perceptron.py:686: ConvergenceWarning: Stochastic Optimizer: Maximum iterations (500) reached and the optimization hasn't converged yet.\n",
      "  warnings.warn(\n",
      "C:\\Users\\Ethan\\anaconda3\\Lib\\site-packages\\sklearn\\neural_network\\_multilayer_perceptron.py:686: ConvergenceWarning: Stochastic Optimizer: Maximum iterations (500) reached and the optimization hasn't converged yet.\n",
      "  warnings.warn(\n",
      "C:\\Users\\Ethan\\anaconda3\\Lib\\site-packages\\sklearn\\neural_network\\_multilayer_perceptron.py:686: ConvergenceWarning: Stochastic Optimizer: Maximum iterations (500) reached and the optimization hasn't converged yet.\n",
      "  warnings.warn(\n",
      "C:\\Users\\Ethan\\anaconda3\\Lib\\site-packages\\sklearn\\neural_network\\_multilayer_perceptron.py:686: ConvergenceWarning: Stochastic Optimizer: Maximum iterations (500) reached and the optimization hasn't converged yet.\n",
      "  warnings.warn(\n",
      "C:\\Users\\Ethan\\anaconda3\\Lib\\site-packages\\sklearn\\neural_network\\_multilayer_perceptron.py:686: ConvergenceWarning: Stochastic Optimizer: Maximum iterations (500) reached and the optimization hasn't converged yet.\n",
      "  warnings.warn(\n",
      "C:\\Users\\Ethan\\anaconda3\\Lib\\site-packages\\sklearn\\neural_network\\_multilayer_perceptron.py:686: ConvergenceWarning: Stochastic Optimizer: Maximum iterations (500) reached and the optimization hasn't converged yet.\n",
      "  warnings.warn(\n",
      "C:\\Users\\Ethan\\anaconda3\\Lib\\site-packages\\sklearn\\neural_network\\_multilayer_perceptron.py:686: ConvergenceWarning: Stochastic Optimizer: Maximum iterations (500) reached and the optimization hasn't converged yet.\n",
      "  warnings.warn(\n",
      "C:\\Users\\Ethan\\anaconda3\\Lib\\site-packages\\sklearn\\neural_network\\_multilayer_perceptron.py:686: ConvergenceWarning: Stochastic Optimizer: Maximum iterations (500) reached and the optimization hasn't converged yet.\n",
      "  warnings.warn(\n",
      "C:\\Users\\Ethan\\anaconda3\\Lib\\site-packages\\sklearn\\neural_network\\_multilayer_perceptron.py:686: ConvergenceWarning: Stochastic Optimizer: Maximum iterations (500) reached and the optimization hasn't converged yet.\n",
      "  warnings.warn(\n",
      "C:\\Users\\Ethan\\anaconda3\\Lib\\site-packages\\sklearn\\neural_network\\_multilayer_perceptron.py:686: ConvergenceWarning: Stochastic Optimizer: Maximum iterations (500) reached and the optimization hasn't converged yet.\n",
      "  warnings.warn(\n"
     ]
    },
    {
     "name": "stdout",
     "output_type": "stream",
     "text": [
      "Fitting 5 folds for each of 6 candidates, totalling 30 fits\n"
     ]
    },
    {
     "name": "stderr",
     "output_type": "stream",
     "text": [
      "C:\\Users\\Ethan\\anaconda3\\Lib\\site-packages\\sklearn\\neural_network\\_multilayer_perceptron.py:686: ConvergenceWarning: Stochastic Optimizer: Maximum iterations (500) reached and the optimization hasn't converged yet.\n",
      "  warnings.warn(\n",
      "C:\\Users\\Ethan\\anaconda3\\Lib\\site-packages\\sklearn\\neural_network\\_multilayer_perceptron.py:686: ConvergenceWarning: Stochastic Optimizer: Maximum iterations (500) reached and the optimization hasn't converged yet.\n",
      "  warnings.warn(\n",
      "C:\\Users\\Ethan\\anaconda3\\Lib\\site-packages\\sklearn\\neural_network\\_multilayer_perceptron.py:686: ConvergenceWarning: Stochastic Optimizer: Maximum iterations (500) reached and the optimization hasn't converged yet.\n",
      "  warnings.warn(\n",
      "C:\\Users\\Ethan\\anaconda3\\Lib\\site-packages\\sklearn\\neural_network\\_multilayer_perceptron.py:686: ConvergenceWarning: Stochastic Optimizer: Maximum iterations (500) reached and the optimization hasn't converged yet.\n",
      "  warnings.warn(\n",
      "C:\\Users\\Ethan\\anaconda3\\Lib\\site-packages\\sklearn\\neural_network\\_multilayer_perceptron.py:686: ConvergenceWarning: Stochastic Optimizer: Maximum iterations (500) reached and the optimization hasn't converged yet.\n",
      "  warnings.warn(\n",
      "C:\\Users\\Ethan\\anaconda3\\Lib\\site-packages\\sklearn\\neural_network\\_multilayer_perceptron.py:686: ConvergenceWarning: Stochastic Optimizer: Maximum iterations (500) reached and the optimization hasn't converged yet.\n",
      "  warnings.warn(\n",
      "C:\\Users\\Ethan\\anaconda3\\Lib\\site-packages\\sklearn\\neural_network\\_multilayer_perceptron.py:686: ConvergenceWarning: Stochastic Optimizer: Maximum iterations (500) reached and the optimization hasn't converged yet.\n",
      "  warnings.warn(\n",
      "C:\\Users\\Ethan\\anaconda3\\Lib\\site-packages\\sklearn\\neural_network\\_multilayer_perceptron.py:686: ConvergenceWarning: Stochastic Optimizer: Maximum iterations (500) reached and the optimization hasn't converged yet.\n",
      "  warnings.warn(\n",
      "C:\\Users\\Ethan\\anaconda3\\Lib\\site-packages\\sklearn\\neural_network\\_multilayer_perceptron.py:686: ConvergenceWarning: Stochastic Optimizer: Maximum iterations (500) reached and the optimization hasn't converged yet.\n",
      "  warnings.warn(\n"
     ]
    },
    {
     "name": "stdout",
     "output_type": "stream",
     "text": [
      "Fitting 5 folds for each of 6 candidates, totalling 30 fits\n"
     ]
    },
    {
     "name": "stderr",
     "output_type": "stream",
     "text": [
      "C:\\Users\\Ethan\\anaconda3\\Lib\\site-packages\\sklearn\\neural_network\\_multilayer_perceptron.py:686: ConvergenceWarning: Stochastic Optimizer: Maximum iterations (500) reached and the optimization hasn't converged yet.\n",
      "  warnings.warn(\n",
      "C:\\Users\\Ethan\\anaconda3\\Lib\\site-packages\\sklearn\\neural_network\\_multilayer_perceptron.py:686: ConvergenceWarning: Stochastic Optimizer: Maximum iterations (500) reached and the optimization hasn't converged yet.\n",
      "  warnings.warn(\n",
      "C:\\Users\\Ethan\\anaconda3\\Lib\\site-packages\\sklearn\\neural_network\\_multilayer_perceptron.py:686: ConvergenceWarning: Stochastic Optimizer: Maximum iterations (500) reached and the optimization hasn't converged yet.\n",
      "  warnings.warn(\n",
      "C:\\Users\\Ethan\\anaconda3\\Lib\\site-packages\\sklearn\\neural_network\\_multilayer_perceptron.py:686: ConvergenceWarning: Stochastic Optimizer: Maximum iterations (500) reached and the optimization hasn't converged yet.\n",
      "  warnings.warn(\n",
      "C:\\Users\\Ethan\\anaconda3\\Lib\\site-packages\\sklearn\\neural_network\\_multilayer_perceptron.py:686: ConvergenceWarning: Stochastic Optimizer: Maximum iterations (500) reached and the optimization hasn't converged yet.\n",
      "  warnings.warn(\n",
      "C:\\Users\\Ethan\\anaconda3\\Lib\\site-packages\\sklearn\\neural_network\\_multilayer_perceptron.py:686: ConvergenceWarning: Stochastic Optimizer: Maximum iterations (500) reached and the optimization hasn't converged yet.\n",
      "  warnings.warn(\n",
      "C:\\Users\\Ethan\\anaconda3\\Lib\\site-packages\\sklearn\\neural_network\\_multilayer_perceptron.py:686: ConvergenceWarning: Stochastic Optimizer: Maximum iterations (500) reached and the optimization hasn't converged yet.\n",
      "  warnings.warn(\n",
      "C:\\Users\\Ethan\\anaconda3\\Lib\\site-packages\\sklearn\\neural_network\\_multilayer_perceptron.py:686: ConvergenceWarning: Stochastic Optimizer: Maximum iterations (500) reached and the optimization hasn't converged yet.\n",
      "  warnings.warn(\n",
      "C:\\Users\\Ethan\\anaconda3\\Lib\\site-packages\\sklearn\\neural_network\\_multilayer_perceptron.py:686: ConvergenceWarning: Stochastic Optimizer: Maximum iterations (500) reached and the optimization hasn't converged yet.\n",
      "  warnings.warn(\n"
     ]
    },
    {
     "name": "stdout",
     "output_type": "stream",
     "text": [
      "\n",
      "\n",
      "MLP best parameters for baseline data: {'activation': 'tanh', 'learning_rate_init': 0.005, 'max_iter': 500}\n",
      "MLP best parameters for research data: {'activation': 'tanh', 'learning_rate_init': 0.003, 'max_iter': 500}\n",
      "MLP best parameters for exploratory data: {'activation': 'tanh', 'learning_rate_init': 0.003, 'max_iter': 500}\n",
      "\n",
      "\n",
      "Fitting 5 folds for each of 12 candidates, totalling 60 fits\n",
      "Fitting 5 folds for each of 12 candidates, totalling 60 fits\n",
      "Fitting 5 folds for each of 12 candidates, totalling 60 fits\n",
      "\n",
      "\n",
      "KNN best parameters for baseline data: {'n_neighbors': 3, 'p': 1, 'weights': 'distance'}\n",
      "KNN best parameters for research data: {'n_neighbors': 4, 'p': 1, 'weights': 'distance'}\n",
      "KNN best parameters for exploratory data: {'n_neighbors': 4, 'p': 1, 'weights': 'distance'}\n",
      "\n",
      "\n"
     ]
    }
   ],
   "source": [
    "from sklearn.model_selection import GridSearchCV\n",
    "\n",
    "#Parameter tuning and follow up training and testing for the SGD Classifier.\n",
    "sgd_parameters = {\n",
    "    'alpha': [0.001, 0.003, 0.005, 0.007],\n",
    "    'penalty': ['l2', 'l1', 'elasticnet'], \n",
    "    'max_iter': [200, 300, 400]              \n",
    "}\n",
    "\n",
    "new_sgd = SGDClassifier(loss = 'log_loss', random_state = 23)\n",
    "\n",
    "sgd_gscv_base = GridSearchCV(estimator = new_sgd, param_grid = sgd_parameters, scoring = 'accuracy', verbose = 1)\n",
    "sgd_gscv_base.fit(x_train_baseline, y_train_baseline)\n",
    "new_sgd_train_pred_baseline = sgd_gscv_base.best_estimator_.predict(x_train_baseline)\n",
    "new_sgd_y_pred_baseline = sgd_gscv_base.best_estimator_.predict(x_test_baseline)\n",
    "\n",
    "sgd_gscv_research = GridSearchCV(estimator = new_sgd, param_grid = sgd_parameters, scoring = 'accuracy', verbose = 1)\n",
    "sgd_gscv_research.fit(x_train_research, y_train_research)\n",
    "new_sgd_train_pred_research = sgd_gscv_research.best_estimator_.predict(x_train_research)\n",
    "new_sgd_y_pred_research = sgd_gscv_research.best_estimator_.predict(x_test_research)\n",
    "\n",
    "sgd_gscv_explore = GridSearchCV(estimator = new_sgd, param_grid = sgd_parameters, scoring = 'accuracy', verbose = 1)\n",
    "sgd_gscv_explore.fit(x_train_exploratory, y_train_exploratory)\n",
    "new_sgd_train_pred_exploratory = sgd_gscv_explore.best_estimator_.predict(x_train_exploratory)\n",
    "new_sgd_y_pred_exploratory = sgd_gscv_explore.best_estimator_.predict(x_test_exploratory)\n",
    "\n",
    "print(\"\\n\")\n",
    "print(\"SGD best parameters for baseline data:\", sgd_gscv_base.best_params_)\n",
    "print(\"SGD best parameters for research data:\", sgd_gscv_research.best_params_)\n",
    "print(\"SGD best parameters for exploratory data:\", sgd_gscv_explore.best_params_)\n",
    "print(\"\\n\")\n",
    "\n",
    "#Parameter tuning and follow up training and testing for the new MND Classifier.\n",
    "gnb_parameters = {\n",
    "    'var_smoothing': [1e-4, 1e-2, 1e-3]\n",
    "}\n",
    "\n",
    "new_gnb = GaussianNB()\n",
    "\n",
    "gnb_gscv_base = GridSearchCV(estimator = new_gnb, param_grid = gnb_parameters, scoring = 'accuracy', verbose = 1)\n",
    "gnb_gscv_base.fit(x_train_baseline, y_train_baseline)\n",
    "new_gnb_train_pred_baseline = gnb_gscv_base.best_estimator_.predict(x_train_baseline)\n",
    "new_gnb_y_pred_baseline = gnb_gscv_base.best_estimator_.predict(x_test_baseline)\n",
    "\n",
    "gnb_gscv_research = GridSearchCV(estimator = new_gnb, param_grid = gnb_parameters, scoring = 'accuracy', verbose = 1)\n",
    "gnb_gscv_research.fit(x_train_research, y_train_research)\n",
    "new_gnb_train_pred_research = gnb_gscv_research.best_estimator_.predict(x_train_research)\n",
    "new_gnb_y_pred_research = gnb_gscv_research.best_estimator_.predict(x_test_research)\n",
    "\n",
    "gnb_gscv_explore = GridSearchCV(estimator = new_gnb, param_grid = gnb_parameters, scoring = 'accuracy', verbose = 1)\n",
    "gnb_gscv_explore.fit(x_train_exploratory, y_train_exploratory)\n",
    "new_gnb_train_pred_exploratory = gnb_gscv_explore.best_estimator_.predict(x_train_exploratory)\n",
    "new_gnb_y_pred_exploratory = gnb_gscv_explore.best_estimator_.predict(x_test_exploratory)\n",
    "\n",
    "print(\"\\n\")\n",
    "print(\"GNB best parameters for baseline data:\", gnb_gscv_base.best_params_)\n",
    "print(\"GNB best parameters for research data:\", gnb_gscv_research.best_params_)\n",
    "print(\"GNB best parameters for exploratory data:\", gnb_gscv_explore.best_params_)\n",
    "print(\"\\n\")\n",
    "\n",
    "#Parameter tuning and follow up training and testing for the MLP Classifier.\n",
    "mlp_parameters = {\n",
    "    'activation': ['relu', 'tanh'],\n",
    "    'learning_rate_init': [0.001, 0.003, 0.005],\n",
    "    'max_iter': [500]\n",
    "}\n",
    "\n",
    "new_mlp = MLPClassifier(random_state = 23)\n",
    "\n",
    "mlp_gscv_base = GridSearchCV(estimator = new_mlp, param_grid = mlp_parameters, scoring = 'accuracy', verbose = 1)\n",
    "mlp_gscv_base.fit(x_train_baseline, y_train_baseline)\n",
    "new_mlp_train_pred_baseline = mlp_gscv_base.best_estimator_.predict(x_train_baseline)\n",
    "new_mlp_y_pred_baseline = mlp_gscv_base.best_estimator_.predict(x_test_baseline)\n",
    "\n",
    "mlp_gscv_research = GridSearchCV(estimator = new_mlp, param_grid = mlp_parameters, scoring = 'accuracy', verbose = 1)\n",
    "mlp_gscv_research.fit(x_train_research, y_train_research)\n",
    "new_mlp_train_pred_research = mlp_gscv_research.best_estimator_.predict(x_train_research)\n",
    "new_mlp_y_pred_research = mlp_gscv_research.best_estimator_.predict(x_test_research)\n",
    "\n",
    "mlp_gscv_explore = GridSearchCV(estimator = new_mlp, param_grid = mlp_parameters, scoring = 'accuracy', verbose = 1)\n",
    "mlp_gscv_explore.fit(x_train_exploratory, y_train_exploratory)\n",
    "new_mlp_train_pred_exploratory = mlp_gscv_explore.best_estimator_.predict(x_train_exploratory)\n",
    "new_mlp_y_pred_exploratory = mlp_gscv_explore.best_estimator_.predict(x_test_exploratory)\n",
    "\n",
    "print(\"\\n\")\n",
    "print(\"MLP best parameters for baseline data:\", mlp_gscv_base.best_params_)\n",
    "print(\"MLP best parameters for research data:\", mlp_gscv_research.best_params_)\n",
    "print(\"MLP best parameters for exploratory data:\", mlp_gscv_explore.best_params_)\n",
    "print(\"\\n\")\n",
    "\n",
    "#Parameter tuning and follow up training and testing for the KNN Classifier.\n",
    "knn_parameters = {\n",
    "    'n_neighbors': [3, 4, 5],\n",
    "    'weights': ['uniform', 'distance'],\n",
    "    'p': [1, 2],\n",
    "}\n",
    "\n",
    "\n",
    "new_knn = KNeighborsClassifier()\n",
    "\n",
    "knn_gscv_base = GridSearchCV(estimator = new_knn, param_grid = knn_parameters, scoring = 'accuracy', verbose = 1)\n",
    "knn_gscv_base.fit(x_train_baseline, y_train_baseline)\n",
    "new_knn_train_pred_baseline = knn_gscv_base.best_estimator_.predict(x_train_baseline)\n",
    "new_knn_y_pred_baseline = knn_gscv_base.best_estimator_.predict(x_test_baseline)\n",
    "\n",
    "knn_gscv_research = GridSearchCV(estimator = new_knn, param_grid = knn_parameters, scoring = 'accuracy', verbose = 1)\n",
    "knn_gscv_research.fit(x_train_research, y_train_research)\n",
    "new_knn_train_pred_research = knn_gscv_research.best_estimator_.predict(x_train_research)\n",
    "new_knn_y_pred_research = knn_gscv_research.best_estimator_.predict(x_test_research)\n",
    "\n",
    "knn_gscv_explore = GridSearchCV(estimator = new_knn, param_grid = knn_parameters, scoring = 'accuracy', verbose = 1)\n",
    "knn_gscv_explore.fit(x_train_exploratory, y_train_exploratory)\n",
    "new_knn_train_pred_exploratory = knn_gscv_explore.best_estimator_.predict(x_train_exploratory)\n",
    "new_knn_y_pred_exploratory = knn_gscv_explore.best_estimator_.predict(x_test_exploratory)\n",
    "\n",
    "print(\"\\n\")\n",
    "print(\"KNN best parameters for baseline data:\", knn_gscv_base.best_params_)\n",
    "print(\"KNN best parameters for research data:\", knn_gscv_research.best_params_)\n",
    "print(\"KNN best parameters for exploratory data:\", knn_gscv_explore.best_params_)\n",
    "print(\"\\n\")"
   ]
  },
  {
   "cell_type": "markdown",
   "id": "4772ade4",
   "metadata": {},
   "source": [
    "### 7.1. Evaluating Tuned Models\n",
    "\n",
    "This section collects the evaluation metrics for the newly tuned models similar to how these metrics were collected for the initial models. A baseline accuracy graph is displayed, but more advanced evaluation will take place in the following section."
   ]
  },
  {
   "cell_type": "code",
   "execution_count": 52,
   "id": "50fdbb16",
   "metadata": {},
   "outputs": [
    {
     "data": {
      "text/plain": [
       "Text(0.5, 1.0, 'Test Accuracy by Tuned Model and Preprocessing Pairing')"
      ]
     },
     "execution_count": 52,
     "metadata": {},
     "output_type": "execute_result"
    },
    {
     "data": {
      "image/png": "[encoded data removed]",
      "text/plain": [
       "<Figure size 1000x600 with 1 Axes>"
      ]
     },
     "metadata": {},
     "output_type": "display_data"
    }
   ],
   "source": [
    "models = ['SGD', 'GNB', 'MLP', 'KNN']\n",
    "pairings = ['Baseline', 'Research', 'Exploratory']\n",
    "\n",
    "#All model data stored in these dictionaries. Use these to calculate scores.\n",
    "train_actual = {'Baseline': y_train_baseline, 'Research': y_train_research, 'Exploratory': y_train_exploratory}\n",
    "train_predictions = {\n",
    "    'SGD': {'Baseline': new_sgd_train_pred_baseline, 'Research': new_sgd_train_pred_research, 'Exploratory': new_sgd_train_pred_exploratory},\n",
    "    'GNB': {'Baseline': new_gnb_train_pred_baseline, 'Research': new_gnb_train_pred_research, 'Exploratory': new_gnb_train_pred_exploratory},\n",
    "    'MLP': {'Baseline': new_mlp_train_pred_baseline, 'Research': new_mlp_train_pred_research, 'Exploratory': new_mlp_train_pred_exploratory},\n",
    "    'KNN': {'Baseline': new_knn_train_pred_baseline, 'Research': new_knn_train_pred_research, 'Exploratory': new_knn_train_pred_exploratory},\n",
    "}\n",
    "\n",
    "test_actual = {'Baseline': y_test_baseline, 'Research': y_test_research, 'Exploratory': y_test_exploratory}\n",
    "test_predictions = {\n",
    "    'SGD': {'Baseline': new_sgd_y_pred_baseline, 'Research': new_sgd_y_pred_research, 'Exploratory': new_sgd_y_pred_exploratory},\n",
    "    'GNB': {'Baseline': new_gnb_y_pred_baseline, 'Research': new_gnb_y_pred_research, 'Exploratory': new_gnb_y_pred_exploratory},\n",
    "    'MLP': {'Baseline': new_mlp_y_pred_baseline, 'Research': new_mlp_y_pred_research, 'Exploratory': new_mlp_y_pred_exploratory},\n",
    "    'KNN': {'Baseline': new_knn_y_pred_baseline, 'Research': new_knn_y_pred_research, 'Exploratory': new_knn_y_pred_exploratory},\n",
    "}\n",
    "\n",
    "#Store all metrics in a mutlileveled dictionary for easy access.\n",
    "tuned_results = {model: {pair: {} for pair in pairings} for model in models}\n",
    "\n",
    "for model in models:\n",
    "    for pair in pairings:\n",
    "        tuned_results[model][pair] = {\n",
    "            'train_accuracy': accuracy_score(train_actual[pair], train_predictions[model][pair]),\n",
    "            'test_accuracy': accuracy_score(test_actual[pair], test_predictions[model][pair]),\n",
    "            'precision': precision_score(test_actual[pair], test_predictions[model][pair]),\n",
    "            'recall': recall_score(test_actual[pair], test_predictions[model][pair]),\n",
    "            'f1': f1_score(test_actual[pair], test_predictions[model][pair]),\n",
    "            'roc_auc': roc_auc_score(test_actual[pair], test_predictions[model][pair])\n",
    "        }\n",
    "        \n",
    "#Display a graph with the test accuracies for each model and pairing.\n",
    "\n",
    "desired_metric = 'test_accuracy' #Change the metric type here.\n",
    "\n",
    "test_accuracy_df = pd.DataFrame({model: {pair: tuned_results[model][pair][desired_metric] for pair in pairings} for model in models}).T\n",
    "fig, ax = plt.subplots(figsize=(10, 6))\n",
    "test_accuracy_df.plot(kind='bar', ax=ax)\n",
    "\n",
    "ax.set_xlabel('Tuned Models')\n",
    "ax.set_ylabel('Test Accuracy')\n",
    "ax.set_title('Test Accuracy by Tuned Model and Preprocessing Pairing')"
   ]
  },
  {
   "cell_type": "markdown",
   "id": "80f72226",
   "metadata": {},
   "source": [
    "## 8. Evaluation Metrics\n",
    "\n",
    "Now, all steps of the approach have been completed, and it is time to evaluate how to different models and pairing performed. This section will answer the questions related to the project objectives, such as if new models or pairings introduced performed better than models and pairings taken from other papers. In addition, this section will explore how feature engineering and parameter tuning impacted model performance and if the models overfitted or not."
   ]
  },
  {
   "cell_type": "code",
   "execution_count": 42,
   "id": "a0ccb31a",
   "metadata": {},
   "outputs": [
    {
     "data": {
      "image/png": "[encoded data removed]",
      "text/plain": [
       "<Figure size 1000x600 with 1 Axes>"
      ]
     },
     "metadata": {},
     "output_type": "display_data"
    }
   ],
   "source": [
    "import seaborn as sns\n",
    "\n",
    "#Compares the initial models with the models after hyperparameter tuning.\n",
    "hyper_data = []\n",
    "for model in models:\n",
    "    for pair in pairings:\n",
    "        hyper_data.append({\n",
    "            'Model': model,\n",
    "            'Pairing': pair,\n",
    "            'Type': 'Initial',\n",
    "            'Test Accuracy': initial_results[model][pair]['test_accuracy'] #Change value here for different metric views.\n",
    "        })\n",
    "        hyper_data.append({\n",
    "            'Model': model,\n",
    "            'Pairing': pair,\n",
    "            'Type': 'Tuned',  \n",
    "            'Test Accuracy': tuned_results[model][pair]['test_accuracy'] #Change value here for different metric views.\n",
    "        })\n",
    "\n",
    "plt.figure(figsize=(10, 6))\n",
    "sns.barplot(x = 'Model', y = 'Test Accuracy', hue = 'Type', errorbar = None, data = pd.DataFrame(hyper_data))\n",
    "\n",
    "plt.xlabel('Model')\n",
    "plt.ylabel('Test Accuracy (Preprocessing Method Average)')\n",
    "plt.title('Comparison of Test Accuracy: Initial vs Tuned Results')\n",
    "plt.xticks(rotation=45)\n",
    "plt.show()"
   ]
  },
  {
   "cell_type": "code",
   "execution_count": 51,
   "id": "bd4b20c1",
   "metadata": {},
   "outputs": [
    {
     "data": {
      "image/png": "[encoded data removed]",
      "text/plain": [
       "<Figure size 1000x600 with 1 Axes>"
      ]
     },
     "metadata": {},
     "output_type": "display_data"
    }
   ],
   "source": [
    "#Compares the tuned training and testing data to check for overfitting.\n",
    "overfit_data = []\n",
    "for model in models:\n",
    "    for pair in pairings:\n",
    "        overfit_data.append({\n",
    "            'Model': model,\n",
    "            'Pairing': pair,\n",
    "            'Type': 'Train',\n",
    "            'Accuracy': tuned_results[model][pair]['train_accuracy']\n",
    "        })\n",
    "        overfit_data.append({\n",
    "            'Model': model,\n",
    "            'Pairing': pair,\n",
    "            'Type': 'Test',\n",
    "            'Accuracy': tuned_results[model][pair]['test_accuracy']\n",
    "        })\n",
    "\n",
    "palette = {\n",
    "    'Train': '#6a0dad',\n",
    "    'Test': '#ff6347'\n",
    "}\n",
    "plt.figure(figsize=(10, 6))\n",
    "sns.barplot(x = 'Model', y = 'Accuracy', hue = 'Type', errorbar = None, data = pd.DataFrame(overfit_data), palette = palette)\n",
    "\n",
    "plt.xlabel('Model')\n",
    "plt.ylabel('Accuracy')\n",
    "plt.title('Training and Testing Accuracies for Tuned Models')\n",
    "plt.xticks(rotation=45)\n",
    "plt.show()"
   ]
  }
 ],
 "metadata": {
  "kernelspec": {
   "display_name": "Python 3 (ipykernel)",
   "language": "python",
   "name": "python3"
  },
  "language_info": {
   "codemirror_mode": {
    "name": "ipython",
    "version": 3
   },
   "file_extension": ".py",
   "mimetype": "text/x-python",
   "name": "python",
   "nbconvert_exporter": "python",
   "pygments_lexer": "ipython3",
   "version": "3.11.5"
  }
 },
 "nbformat": 4,
 "nbformat_minor": 5
}
